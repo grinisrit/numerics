{
 "cells": [
  {
   "cell_type": "markdown",
   "id": "e08b8099",
   "metadata": {},
   "source": [
    "# Contiguous vs non-contiguous matrix multiplication performance example\n",
    "\n",
    "* [A difference between \"**C-contiguous**\" and \"**F-contiguous**\"](https://stackoverflow.com/questions/26998223/what-is-the-difference-between-contiguous-and-non-contiguous-arrays)"
   ]
  },
  {
   "cell_type": "markdown",
   "id": "f003a8b0",
   "metadata": {},
   "source": [
    "## numpy dot"
   ]
  },
  {
   "cell_type": "code",
   "execution_count": 1,
   "id": "0a678422",
   "metadata": {},
   "outputs": [],
   "source": [
    "import numba\n",
    "import numpy as np"
   ]
  },
  {
   "cell_type": "code",
   "execution_count": 2,
   "id": "5a5afe2e",
   "metadata": {},
   "outputs": [],
   "source": [
    "N = 500\n",
    "a = np.random.normal(size=(N, N))\n",
    "b = np.random.normal(size=(N, N))\n",
    "aT = np.transpose(a)\n",
    "bT = np.transpose(b)\n",
    "\n",
    "times = {\n",
    "    \"matmul1\":           [0, 0, 0, 0],\n",
    "    \"matmul2\":           [0, 0, 0, 0],\n",
    "    \"numba_matmul\":      [0, 0, 0, 0],\n",
    "    \"numba_matmul_inv\":  [0, 0, 0, 0],\n",
    "    \"numba_matmul_cuda\": [0, 0, 0, 0],\n",
    "}"
   ]
  },
  {
   "cell_type": "code",
   "execution_count": 3,
   "id": "b35fc06b",
   "metadata": {},
   "outputs": [],
   "source": [
    "@numba.njit()\n",
    "def matmul1(m1, m2):\n",
    "    return m1 @ m2"
   ]
  },
  {
   "cell_type": "code",
   "execution_count": 4,
   "id": "874e4565",
   "metadata": {},
   "outputs": [],
   "source": [
    "def p_contig(name, m):\n",
    "    print(f\"{name}\\t{m.data.c_contiguous}\\t\\t{m.data.f_contiguous}\")"
   ]
  },
  {
   "cell_type": "code",
   "execution_count": 5,
   "id": "2cf7d816",
   "metadata": {},
   "outputs": [
    {
     "name": "stdout",
     "output_type": "stream",
     "text": [
      "Matrix\tC-contiguous\tF-contiguous\n",
      "------\t------------\t------------\n",
      "a\tTrue\t\tFalse\n",
      "a^T\tFalse\t\tTrue\n",
      "b\tTrue\t\tFalse\n",
      "b^T\tFalse\t\tTrue\n"
     ]
    }
   ],
   "source": [
    "print(\"Matrix\\tC-contiguous\\tF-contiguous\")\n",
    "print(\"------\\t------------\\t------------\")\n",
    "p_contig(\"a\", a)\n",
    "p_contig(\"a^T\", aT)\n",
    "p_contig(\"b\", b)\n",
    "p_contig(\"b^T\", bT)"
   ]
  },
  {
   "cell_type": "code",
   "execution_count": 6,
   "id": "83046855",
   "metadata": {},
   "outputs": [
    {
     "name": "stdout",
     "output_type": "stream",
     "text": [
      "45.1 ms ± 446 µs per loop (mean ± std. dev. of 7 runs, 1 loop each)\n"
     ]
    }
   ],
   "source": [
    "times[\"matmul1\"][0] = %timeit -o matmul1(a, b)"
   ]
  },
  {
   "cell_type": "code",
   "execution_count": 7,
   "id": "0c722cfc",
   "metadata": {},
   "outputs": [
    {
     "name": "stdout",
     "output_type": "stream",
     "text": [
      "66.9 ms ± 2.56 ms per loop (mean ± std. dev. of 7 runs, 1 loop each)\n"
     ]
    }
   ],
   "source": [
    "times[\"matmul1\"][1] = %timeit -o matmul1(aT, b)"
   ]
  },
  {
   "cell_type": "code",
   "execution_count": 8,
   "id": "2dc7b53f",
   "metadata": {},
   "outputs": [
    {
     "name": "stdout",
     "output_type": "stream",
     "text": [
      "89.1 ms ± 861 µs per loop (mean ± std. dev. of 7 runs, 1 loop each)\n"
     ]
    }
   ],
   "source": [
    "times[\"matmul1\"][2] = %timeit -o matmul1(a, bT)"
   ]
  },
  {
   "cell_type": "code",
   "execution_count": 9,
   "id": "268f508b",
   "metadata": {},
   "outputs": [
    {
     "name": "stdout",
     "output_type": "stream",
     "text": [
      "89.5 ms ± 328 µs per loop (mean ± std. dev. of 7 runs, 1 loop each)\n"
     ]
    }
   ],
   "source": [
    "times[\"matmul1\"][3] = %timeit -o matmul1(aT, bT)"
   ]
  },
  {
   "cell_type": "code",
   "execution_count": 10,
   "id": "fdd0dcb1",
   "metadata": {},
   "outputs": [],
   "source": [
    "# We can improve our result and check if both matrices are f-contiguous inside our matmul function\n",
    "def matmul2(m1, m2):\n",
    "    if m1.data.f_contiguous and m2.data.f_contiguous:\n",
    "        return np.transpose(matmul1(np.transpose(m1), np.transpose(m2)))\n",
    "    return matmul1(m1, m2)"
   ]
  },
  {
   "cell_type": "code",
   "execution_count": 11,
   "id": "33206d41",
   "metadata": {},
   "outputs": [
    {
     "name": "stdout",
     "output_type": "stream",
     "text": [
      "45.6 ms ± 379 µs per loop (mean ± std. dev. of 7 runs, 10 loops each)\n"
     ]
    }
   ],
   "source": [
    "times[\"matmul2\"][0] = %timeit -o matmul2(a, b)"
   ]
  },
  {
   "cell_type": "code",
   "execution_count": 12,
   "id": "7e5b3a1b",
   "metadata": {},
   "outputs": [
    {
     "name": "stdout",
     "output_type": "stream",
     "text": [
      "63.7 ms ± 410 µs per loop (mean ± std. dev. of 7 runs, 10 loops each)\n"
     ]
    }
   ],
   "source": [
    "times[\"matmul2\"][1] = %timeit -o matmul2(aT, b)"
   ]
  },
  {
   "cell_type": "code",
   "execution_count": 13,
   "id": "fa77853b",
   "metadata": {},
   "outputs": [
    {
     "name": "stdout",
     "output_type": "stream",
     "text": [
      "88.2 ms ± 615 µs per loop (mean ± std. dev. of 7 runs, 10 loops each)\n"
     ]
    }
   ],
   "source": [
    "times[\"matmul2\"][2] = %timeit -o matmul2(a, bT)"
   ]
  },
  {
   "cell_type": "code",
   "execution_count": 14,
   "id": "0c8efda3",
   "metadata": {},
   "outputs": [
    {
     "name": "stdout",
     "output_type": "stream",
     "text": [
      "46 ms ± 496 µs per loop (mean ± std. dev. of 7 runs, 10 loops each)\n"
     ]
    }
   ],
   "source": [
    "times[\"matmul2\"][3] = %timeit -o matmul2(a, b)"
   ]
  },
  {
   "cell_type": "markdown",
   "id": "bb1b7912",
   "metadata": {},
   "source": [
    "## Manual implementation"
   ]
  },
  {
   "cell_type": "code",
   "execution_count": 15,
   "id": "d9934c1b",
   "metadata": {},
   "outputs": [],
   "source": [
    "# From the first seminar\n",
    "@numba.njit\n",
    "def numba_matmul(a, b):\n",
    "    n = a.shape[0]\n",
    "    k = a.shape[1]\n",
    "    m = b.shape[1]\n",
    "    c = np.zeros((n, m))\n",
    "    for i in range(n):\n",
    "        for j in range(m):\n",
    "            for s in range(k):\n",
    "                c[i, j] += a[i, s] * b[s, j]\n",
    "    return c"
   ]
  },
  {
   "cell_type": "code",
   "execution_count": 16,
   "id": "8d1b2229",
   "metadata": {},
   "outputs": [
    {
     "name": "stdout",
     "output_type": "stream",
     "text": [
      "133 ms ± 5.03 ms per loop (mean ± std. dev. of 7 runs, 10 loops each)\n"
     ]
    }
   ],
   "source": [
    "times[\"numba_matmul\"][0] = %timeit -o -r 7 -n 10 numba_matmul(a, b)"
   ]
  },
  {
   "cell_type": "code",
   "execution_count": 17,
   "id": "21ac237b",
   "metadata": {},
   "outputs": [
    {
     "name": "stdout",
     "output_type": "stream",
     "text": [
      "158 ms ± 3.87 ms per loop (mean ± std. dev. of 7 runs, 10 loops each)\n"
     ]
    }
   ],
   "source": [
    "times[\"numba_matmul\"][1] = %timeit -o -r 7 -n 10 numba_matmul(aT, b)"
   ]
  },
  {
   "cell_type": "code",
   "execution_count": 18,
   "id": "f363faa3",
   "metadata": {},
   "outputs": [
    {
     "name": "stdout",
     "output_type": "stream",
     "text": [
      "99.5 ms ± 3.28 ms per loop (mean ± std. dev. of 7 runs, 10 loops each)\n"
     ]
    }
   ],
   "source": [
    "times[\"numba_matmul\"][2] = %timeit -o -r 7 -n 10 numba_matmul(a, bT)"
   ]
  },
  {
   "cell_type": "code",
   "execution_count": 19,
   "id": "4ba82473",
   "metadata": {},
   "outputs": [
    {
     "name": "stdout",
     "output_type": "stream",
     "text": [
      "127 ms ± 3.99 ms per loop (mean ± std. dev. of 7 runs, 10 loops each)\n"
     ]
    }
   ],
   "source": [
    "times[\"numba_matmul\"][3] = %timeit -o -r 7 -n 10 numba_matmul(aT, bT)"
   ]
  },
  {
   "cell_type": "code",
   "execution_count": 20,
   "id": "1b0ed622",
   "metadata": {},
   "outputs": [],
   "source": [
    "# Same function, but the loops are ordered differently\n",
    "@numba.njit\n",
    "def numba_matmul_inv(a, b):\n",
    "    n = a.shape[0]\n",
    "    k = a.shape[1]\n",
    "    m = b.shape[1]\n",
    "    c = np.zeros((n, m))\n",
    "    for j in range(m):\n",
    "        for i in range(n):\n",
    "            for s in range(k):\n",
    "                c[i, j] += a[i, s] * b[s, j]\n",
    "    return c"
   ]
  },
  {
   "cell_type": "code",
   "execution_count": 21,
   "id": "5b02f136",
   "metadata": {},
   "outputs": [
    {
     "name": "stdout",
     "output_type": "stream",
     "text": [
      "128 ms ± 4.08 ms per loop (mean ± std. dev. of 7 runs, 10 loops each)\n"
     ]
    }
   ],
   "source": [
    "times[\"numba_matmul_inv\"][0] = %timeit -o -r 7 -n 10 numba_matmul_inv(a, b)"
   ]
  },
  {
   "cell_type": "code",
   "execution_count": 22,
   "id": "9125bc18",
   "metadata": {},
   "outputs": [
    {
     "name": "stdout",
     "output_type": "stream",
     "text": [
      "163 ms ± 3.99 ms per loop (mean ± std. dev. of 7 runs, 10 loops each)\n"
     ]
    }
   ],
   "source": [
    "times[\"numba_matmul_inv\"][1] = %timeit -o -r 7 -n 10 numba_matmul_inv(aT, b)"
   ]
  },
  {
   "cell_type": "code",
   "execution_count": 23,
   "id": "5671e462",
   "metadata": {},
   "outputs": [
    {
     "name": "stdout",
     "output_type": "stream",
     "text": [
      "102 ms ± 3.69 ms per loop (mean ± std. dev. of 7 runs, 10 loops each)\n"
     ]
    }
   ],
   "source": [
    "times[\"numba_matmul_inv\"][2] = %timeit -o -r 7 -n 10 numba_matmul_inv(a, bT)"
   ]
  },
  {
   "cell_type": "code",
   "execution_count": 24,
   "id": "b0c71728",
   "metadata": {},
   "outputs": [
    {
     "name": "stdout",
     "output_type": "stream",
     "text": [
      "129 ms ± 4.1 ms per loop (mean ± std. dev. of 7 runs, 10 loops each)\n"
     ]
    }
   ],
   "source": [
    "times[\"numba_matmul_inv\"][3] = %timeit -o -r 7 -n 10 numba_matmul_inv(aT, bT)"
   ]
  },
  {
   "cell_type": "markdown",
   "id": "4b55888f",
   "metadata": {},
   "source": [
    "## CUDA"
   ]
  },
  {
   "cell_type": "code",
   "execution_count": 25,
   "id": "2424e6e7",
   "metadata": {},
   "outputs": [],
   "source": [
    "# From the first seminar\n",
    "import torch\n",
    "from numba import cuda\n",
    "@cuda.jit\n",
    "def numba_matmul_kernel(a, b, c, m, k):\n",
    "    thread_id = cuda.threadIdx.x\n",
    "    block_id = cuda.blockIdx.x # same as n\n",
    "\n",
    "    step = cuda.blockDim.x\n",
    "\n",
    "    for i in range(thread_id, m, step):\n",
    "        for s in range(k):\n",
    "            c[block_id, i] += a[block_id, s] * b[s, i]\n",
    "\n",
    "def numba_matmul_cuda(a, b):\n",
    "    n = a.shape[0]\n",
    "    k = a.shape[1]\n",
    "    m = b.shape[1]\n",
    "    c = torch.zeros((n, m)).cuda()\n",
    "\n",
    "    grid_size = n\n",
    "    block_size = 32 * (max(1, m // 32)) # Block size should be a multiple of 32\n",
    "\n",
    "    numba_matmul_kernel[grid_size, block_size](a, b, c, m, k)\n",
    "    return c"
   ]
  },
  {
   "cell_type": "code",
   "execution_count": 26,
   "id": "81fe1df2",
   "metadata": {},
   "outputs": [],
   "source": [
    "a_c  = torch.Tensor(a).cuda()\n",
    "b_c  = torch.Tensor(b).cuda()\n",
    "aT_c = torch.Tensor(aT).cuda()\n",
    "bT_c = torch.Tensor(bT).cuda()"
   ]
  },
  {
   "cell_type": "code",
   "execution_count": 27,
   "id": "d28f94dc",
   "metadata": {},
   "outputs": [
    {
     "name": "stdout",
     "output_type": "stream",
     "text": [
      "19.9 ms ± 2.14 ms per loop (mean ± std. dev. of 7 runs, 10 loops each)\n"
     ]
    }
   ],
   "source": [
    "times[\"numba_matmul_cuda\"][0] = %timeit -o numba_matmul_cuda(a_c, b_c)"
   ]
  },
  {
   "cell_type": "code",
   "execution_count": 28,
   "id": "44721ca0",
   "metadata": {},
   "outputs": [
    {
     "name": "stdout",
     "output_type": "stream",
     "text": [
      "24 ms ± 2.9 ms per loop (mean ± std. dev. of 7 runs, 10 loops each)\n"
     ]
    }
   ],
   "source": [
    "times[\"numba_matmul_cuda\"][1] = %timeit -o numba_matmul_cuda(aT_c, b_c)"
   ]
  },
  {
   "cell_type": "code",
   "execution_count": 29,
   "id": "7cfc067b",
   "metadata": {},
   "outputs": [
    {
     "name": "stdout",
     "output_type": "stream",
     "text": [
      "38.1 ms ± 4.35 ms per loop (mean ± std. dev. of 7 runs, 10 loops each)\n"
     ]
    }
   ],
   "source": [
    "times[\"numba_matmul_cuda\"][2] = %timeit -o numba_matmul_cuda(a_c, bT_c)"
   ]
  },
  {
   "cell_type": "code",
   "execution_count": 30,
   "id": "c34796a4",
   "metadata": {},
   "outputs": [
    {
     "name": "stdout",
     "output_type": "stream",
     "text": [
      "38.1 ms ± 2.85 ms per loop (mean ± std. dev. of 7 runs, 10 loops each)\n"
     ]
    }
   ],
   "source": [
    "times[\"numba_matmul_cuda\"][3] = %timeit -o numba_matmul_cuda(aT_c, bT_c)"
   ]
  },
  {
   "cell_type": "markdown",
   "id": "cc7569d0",
   "metadata": {},
   "source": [
    "## Summary"
   ]
  },
  {
   "cell_type": "code",
   "execution_count": 31,
   "id": "6f135072",
   "metadata": {},
   "outputs": [
    {
     "data": {
      "text/plain": [
       "<matplotlib.legend.Legend at 0x7fb4ec35b040>"
      ]
     },
     "execution_count": 31,
     "metadata": {},
     "output_type": "execute_result"
    },
    {
     "data": {
      "image/png": "[encoded data removed]",
      "text/plain": [
       "<Figure size 640x480 with 1 Axes>"
      ]
     },
     "metadata": {},
     "output_type": "display_data"
    }
   ],
   "source": [
    "import matplotlib.pyplot as plt\n",
    "\n",
    "fig, ax = plt.subplots()\n",
    "\n",
    "for test in times:\n",
    "    plt.plot(list(map(lambda x: sum(x.all_runs) / len(x.all_runs), times[test])), label=test)\n",
    "    \n",
    "ax.legend()"
   ]
  }
 ],
 "metadata": {
  "kernelspec": {
   "display_name": "Python 3 (ipykernel)",
   "language": "python",
   "name": "python3"
  },
  "language_info": {
   "codemirror_mode": {
    "name": "ipython",
    "version": 3
   },
   "file_extension": ".py",
   "mimetype": "text/x-python",
   "name": "python",
   "nbconvert_exporter": "python",
   "pygments_lexer": "ipython3",
   "version": "3.10.7"
  }
 },
 "nbformat": 4,
 "nbformat_minor": 5
}
