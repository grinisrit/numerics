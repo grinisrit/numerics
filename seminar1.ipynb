{
 "cells":[
  {
   "cell_type":"markdown",
   "source":[
    "# Multidimensional arrays\n",
    "\n",
    "### Check installation"
   ],
   "attachments":{
    
   },
   "metadata":{
    "datalore":{
     "node_id":"eI6dnqgy2vaGpqYeh7nF8s",
     "type":"MD",
     "hide_input_from_viewers":false,
     "hide_output_from_viewers":false
    }
   }
  },
  {
   "cell_type":"code",
   "source":[
    "!lscpu"
   ],
   "execution_count":5,
   "outputs":[
    {
     "name":"stdout",
     "text":[
      "Architecture:            x86_64\r\n",
      "  CPU op-mode(s):        32-bit, 64-bit\r\n",
      "  Address sizes:         46 bits physical, 48 bits virtual\r\n",
      "  Byte Order:            Little Endian\r\n",
      "CPU(s):                  4\r\n",
      "  On-line CPU(s) list:   0-3\r\n",
      "Vendor ID:               GenuineIntel\r\n",
      "  Model name:            Intel(R) Xeon(R) Platinum 8259CL CPU @ 2.50GHz\r\n",
      "    CPU family:          6\r\n",
      "    Model:               85\r\n",
      "    Thread(s) per core:  2\r\n",
      "    Core(s) per socket:  2\r\n",
      "    Socket(s):           1\r\n",
      "    Stepping:            7\r\n",
      "    BogoMIPS:            4999.99\r\n",
      "    Flags:               fpu vme de pse tsc msr pae mce cx8 apic sep mtrr pge mc\r\n",
      "                         a cmov pat pse36 clflush mmx fxsr sse sse2 ss ht syscal\r\n",
      "                         l nx pdpe1gb rdtscp lm constant_tsc rep_good nopl xtopo\r\n",
      "                         logy nonstop_tsc cpuid aperfmperf tsc_known_freq pni pc\r\n",
      "                         lmulqdq ssse3 fma cx16 pcid sse4_1 sse4_2 x2apic movbe \r\n",
      "                         popcnt tsc_deadline_timer aes xsave avx f16c rdrand hyp\r\n",
      "                         ervisor lahf_lm abm 3dnowprefetch invpcid_single pti fs\r\n",
      "                         gsbase tsc_adjust bmi1 avx2 smep bmi2 erms invpcid mpx \r\n",
      "                         avx512f avx512dq rdseed adx smap clflushopt clwb avx512\r\n",
      "                         cd avx512bw avx512vl xsaveopt xsavec xgetbv1 xsaves ida\r\n",
      "                          arat pku ospke avx512_vnni\r\n",
      "Virtualization features: \r\n",
      "  Hypervisor vendor:     KVM\r\n",
      "  Virtualization type:   full\r\n",
      "Caches (sum of all):     \r\n",
      "  L1d:                   64 KiB (2 instances)\r\n",
      "  L1i:                   64 KiB (2 instances)\r\n",
      "  L2:                    2 MiB (2 instances)\r\n",
      "  L3:                    35.8 MiB (1 instance)\r\n",
      "NUMA:                    \r\n",
      "  NUMA node(s):          1\r\n",
      "  NUMA node0 CPU(s):     0-3\r\n",
      "Vulnerabilities:         \r\n",
      "  Itlb multihit:         KVM: Mitigation: VMX unsupported\r\n",
      "  L1tf:                  Mitigation; PTE Inversion\r\n",
      "  Mds:                   Vulnerable: Clear CPU buffers attempted, no microcode; \r\n",
      "                         SMT Host state unknown\r\n",
      "  Meltdown:              Mitigation; PTI\r\n",
      "  Mmio stale data:       Vulnerable: Clear CPU buffers attempted, no microcode; \r\n",
      "                         SMT Host state unknown\r\n",
      "  Retbleed:              Vulnerable\r\n",
      "  Spec store bypass:     Vulnerable\r\n",
      "  Spectre v1:            Mitigation; usercopy\/swapgs barriers and __user pointer\r\n",
      "                          sanitization\r\n",
      "  Spectre v2:            Mitigation; Retpolines, STIBP disabled, RSB filling\r\n",
      "  Srbds:                 Not affected\r\n",
      "  Tsx async abort:       Not affected\r\n"
     ],
     "output_type":"stream"
    }
   ],
   "metadata":{
    "datalore":{
     "node_id":"mGaypVK0oToxT8hbMGYJeK",
     "type":"CODE",
     "hide_input_from_viewers":false,
     "hide_output_from_viewers":false
    }
   }
  },
  {
   "cell_type":"code",
   "source":[
    "!nvidia-smi"
   ],
   "execution_count":2,
   "outputs":[
    {
     "name":"stdout",
     "text":[
      "Fri Sep 16 18:49:32 2022       \r\n",
      "+-----------------------------------------------------------------------------+\r\n",
      "| NVIDIA-SMI 515.65.01    Driver Version: 515.65.01    CUDA Version: 11.7     |\r\n",
      "|-------------------------------+----------------------+----------------------+\r\n",
      "| GPU  Name        Persistence-M| Bus-Id        Disp.A | Volatile Uncorr. ECC |\r\n",
      "| Fan  Temp  Perf  Pwr:Usage\/Cap|         Memory-Usage | GPU-Util  Compute M. |\r\n",
      "|                               |                      |               MIG M. |\r\n",
      "|===============================+======================+======================|\r\n",
      "|   0  Tesla T4            On   | 00000000:00:1E.0 Off |                    0 |\r\n",
      "| N\/A   34C    P8    14W \/  70W |      2MiB \/ 15360MiB |      0%      Default |\r\n",
      "|                               |                      |                  N\/A |\r\n",
      "+-------------------------------+----------------------+----------------------+\r\n",
      "                                                                               \r\n",
      "+-----------------------------------------------------------------------------+\r\n",
      "| Processes:                                                                  |\r\n",
      "|  GPU   GI   CI        PID   Type   Process name                  GPU Memory |\r\n",
      "|        ID   ID                                                   Usage      |\r\n",
      "|=============================================================================|\r\n",
      "|  No running processes found                                                 |\r\n",
      "+-----------------------------------------------------------------------------+\r\n"
     ],
     "output_type":"stream"
    }
   ],
   "metadata":{
    "datalore":{
     "node_id":"xyqnF838tZp8DN6MV9nbKq",
     "type":"CODE",
     "hide_input_from_viewers":false,
     "hide_output_from_viewers":false
    }
   }
  },
  {
   "cell_type":"markdown",
   "source":[
    "## Latency numbers every programmer should know (Jeff Dean):\n",
    "\n",
    "**L1 cache reference 0.5 ns**\n",
    "\n",
    "**L2 cache reference 7 ns**\n",
    "\n",
    "**Main memory reference 100 ns**\n",
    "\n",
    "![CPUCUDA](https:\/\/docs.nvidia.com\/cuda\/cuda-c-programming-guide\/graphics\/gpu-devotes-more-transistors-to-data-processing.png)"
   ],
   "attachments":{
    
   },
   "metadata":{
    "datalore":{
     "node_id":"CjshWeBMvE1IX47rA7hubx",
     "type":"MD",
     "hide_input_from_viewers":false,
     "hide_output_from_viewers":false
    }
   }
  },
  {
   "cell_type":"code",
   "source":[
    "import numpy as np\n",
    "print(np.show_config())"
   ],
   "execution_count":6,
   "outputs":[
    {
     "name":"stdout",
     "text":[
      "blas_info:\n",
      "    libraries = ['cblas', 'blas', 'cblas', 'blas']\n",
      "    library_dirs = ['\/opt\/anaconda3\/envs\/minimal\/lib']\n",
      "    include_dirs = ['\/opt\/anaconda3\/envs\/minimal\/include']\n",
      "    language = c\n",
      "    define_macros = [('HAVE_CBLAS', None)]\n",
      "blas_opt_info:\n",
      "    define_macros = [('NO_ATLAS_INFO', 1), ('HAVE_CBLAS', None)]\n",
      "    libraries = ['cblas', 'blas', 'cblas', 'blas']\n",
      "    library_dirs = ['\/opt\/anaconda3\/envs\/minimal\/lib']\n",
      "    include_dirs = ['\/opt\/anaconda3\/envs\/minimal\/include']\n",
      "    language = c\n",
      "lapack_info:\n",
      "    libraries = ['lapack', 'blas', 'lapack', 'blas']\n",
      "    library_dirs = ['\/opt\/anaconda3\/envs\/minimal\/lib']\n",
      "    language = f77\n",
      "lapack_opt_info:\n",
      "    libraries = ['lapack', 'blas', 'lapack', 'blas', 'cblas', 'blas', 'cblas', 'blas']\n",
      "    library_dirs = ['\/opt\/anaconda3\/envs\/minimal\/lib']\n",
      "    language = c\n",
      "    define_macros = [('NO_ATLAS_INFO', 1), ('HAVE_CBLAS', None)]\n",
      "    include_dirs = ['\/opt\/anaconda3\/envs\/minimal\/include']\n",
      "Supported SIMD extensions in this NumPy install:\n",
      "    baseline = SSE,SSE2,SSE3\n",
      "    found = SSSE3,SSE41,POPCNT,SSE42,AVX,F16C,FMA3,AVX2,AVX512F,AVX512CD,AVX512_SKX,AVX512_CLX\n",
      "    not found = AVX512_KNL,AVX512_KNM,AVX512_CNL,AVX512_ICL\n",
      "None\n"
     ],
     "output_type":"stream"
    }
   ],
   "metadata":{
    "datalore":{
     "node_id":"30Bl24CPPq4SZWQd5OWpon",
     "type":"CODE",
     "hide_input_from_viewers":false,
     "hide_output_from_viewers":false
    }
   }
  },
  {
   "cell_type":"code",
   "source":[
    "!conda list | grep blas "
   ],
   "execution_count":7,
   "outputs":[
    {
     "name":"stdout",
     "text":[
      "libblas                   3.9.0           16_linux64_openblas    conda-forge\r\n",
      "libcblas                  3.9.0           16_linux64_openblas    conda-forge\r\n",
      "liblapack                 3.9.0           16_linux64_openblas    conda-forge\r\n",
      "libopenblas               0.3.21          pthreads_h78a6416_3    conda-forge\r\n"
     ],
     "output_type":"stream"
    }
   ],
   "metadata":{
    "datalore":{
     "node_id":"UpTTobyMm2YUAfgBGWN8N2",
     "type":"CODE",
     "hide_input_from_viewers":false,
     "hide_output_from_viewers":false
    }
   }
  },
  {
   "cell_type":"code",
   "source":[
    "import torch\n",
    "print(torch.__config__.show())\n",
    "print(torch.__config__.parallel_info())"
   ],
   "execution_count":8,
   "outputs":[
    {
     "name":"stdout",
     "text":[
      "PyTorch built with:\n",
      "  - GCC 10.4\n",
      "  - C++ Version: 201402\n",
      "  - Intel(R) oneAPI Math Kernel Library Version 2022.1-Product Build 20220311 for Intel(R) 64 architecture applications\n",
      "  - OpenMP 201511 (a.k.a. OpenMP 4.5)\n",
      "  - LAPACK is enabled (usually provided by MKL)\n",
      "  - NNPACK is enabled\n",
      "  - CPU capability usage: AVX2\n",
      "  - CUDA Runtime 11.7\n",
      "  - Built with CUDA Runtime 11.2\n",
      "  - NVCC architecture flags: -gencode;arch=compute_35,code=sm_35;-gencode;arch=compute_50,code=sm_50;-gencode;arch=compute_60,code=sm_60;-gencode;arch=compute_61,code=sm_61;-gencode;arch=compute_70,code=sm_70;-gencode;arch=compute_75,code=sm_75;-gencode;arch=compute_80,code=sm_80;-gencode;arch=compute_86,code=sm_86;-gencode;arch=compute_86,code=compute_86\n",
      "  - CuDNN 8.4.1  (built against CUDA 11.6)\n",
      "  - Magma 2.5.4\n",
      "  - Build settings: BLAS_INFO=mkl, BUILD_TYPE=Release, CUDA_VERSION=11.2, CUDNN_VERSION=8.4.1, CXX_COMPILER=\/home\/conda\/feedstock_root\/build_artifacts\/pytorch-recipe_1660083882787\/_build_env\/bin\/x86_64-conda-linux-gnu-c++, CXX_FLAGS=-std=c++17 -fmessage-length=0 -march=nocona -mtune=haswell -ftree-vectorize -fPIC -fstack-protector-strong -fno-plt -O2 -ffunction-sections -pipe -isystem \/home\/conda\/feedstock_root\/build_artifacts\/pytorch-recipe_1660083882787\/_h_env_placehold_placehold_placehold_placehold_placehold_placehold_placehold_placehold_placehold_placehold_placehold_placehold_placehold_placehold_placehold_placehold_placehold_placeh\/include -fdebug-prefix-map=\/home\/conda\/feedstock_root\/build_artifacts\/pytorch-recipe_1660083882787\/work=\/usr\/local\/src\/conda\/pytorch-1.12.1 -fdebug-prefix-map=\/home\/conda\/feedstock_root\/build_artifacts\/pytorch-recipe_1660083882787\/_h_env_placehold_placehold_placehold_placehold_placehold_placehold_placehold_placehold_placehold_placehold_placehold_placehold_placehold_placehold_placehold_placehold_placehold_placeh=\/usr\/local\/src\/conda-prefix -isystem \/usr\/local\/cuda\/include -Wno-deprecated-declarations -Wno-deprecated -fvisibility-inlines-hidden -DUSE_PTHREADPOOL -fopenmp -DNDEBUG -DUSE_FBGEMM -DUSE_QNNPACK -DUSE_PYTORCH_QNNPACK -DUSE_XNNPACK -DSYMBOLICATE_MOBILE_DEBUG_HANDLE -DEDGE_PROFILER_USE_KINETO -O2 -fPIC -Wno-narrowing -Wall -Wextra -Werror=return-type -Wno-missing-field-initializers -Wno-type-limits -Wno-array-bounds -Wno-unknown-pragmas -Wno-unused-parameter -Wno-unused-function -Wno-unused-result -Wno-unused-local-typedefs -Wno-strict-overflow -Wno-strict-aliasing -Wno-error=deprecated-declarations -Wno-stringop-overflow -Wno-psabi -Wno-error=pedantic -Wno-error=redundant-decls -Wno-error=old-style-cast -fdiagnostics-color=always -faligned-new -Wno-unused-but-set-variable -Wno-maybe-uninitialized -fno-math-errno -fno-trapping-math -Werror=format -Werror=cast-function-type -Wno-stringop-overflow, LAPACK_INFO=mkl, PERF_WITH_AVX=1, PERF_WITH_AVX2=1, PERF_WITH_AVX512=1, TORCH_VERSION=1.12.1, USE_CUDA=1, USE_CUDNN=ON, USE_EXCEPTION_PTR=1, USE_GFLAGS=OFF, USE_GLOG=OFF, USE_MKL=ON, USE_MKLDNN=OFF, USE_MPI=OFF, USE_NCCL=ON, USE_NNPACK=ON, USE_OPENMP=ON, USE_ROCM=OFF, \n",
      "\n",
      "ATen\/Parallel:\n",
      "\tat::get_num_threads() : 2\n",
      "\tat::get_num_interop_threads() : 2\n",
      "OpenMP 201511 (a.k.a. OpenMP 4.5)\n",
      "\tomp_get_max_threads() : 2\n",
      "Intel(R) oneAPI Math Kernel Library Version 2022.1-Product Build 20220311 for Intel(R) 64 architecture applications\n",
      "\tmkl_get_max_threads() : 2\n",
      "MKLDNN not found\n",
      "std::thread::hardware_concurrency() : 4\n",
      "Environment variables:\n",
      "\tOMP_NUM_THREADS : [not set]\n",
      "\tMKL_NUM_THREADS : [not set]\n",
      "ATen parallel backend: OpenMP\n",
      "\n"
     ],
     "output_type":"stream"
    }
   ],
   "metadata":{
    "datalore":{
     "node_id":"dP9VgYD52WLMQRJj5oFV56",
     "type":"CODE",
     "hide_input_from_viewers":false,
     "hide_output_from_viewers":false
    }
   }
  },
  {
   "cell_type":"code",
   "source":[
    "N = 500\n",
    "a = np.random.normal(size=(N,N))\n",
    "b = np.random.normal(size=(N,N))\n",
    "a_ten = torch.tensor(a)\n",
    "b_ten = torch.tensor(b)\n",
    "a_tenc = a_ten.cuda()\n",
    "b_tenc = b_ten.cuda()"
   ],
   "execution_count":9,
   "outputs":[
    
   ],
   "metadata":{
    "datalore":{
     "node_id":"2cqTRgk3U3rdu2zpa9Ixgj",
     "type":"CODE",
     "hide_input_from_viewers":false,
     "hide_output_from_viewers":false
    }
   }
  },
  {
   "cell_type":"code",
   "source":[
    "a_ten"
   ],
   "execution_count":13,
   "outputs":[
    {
     "data":{
      "text\/plain":[
       "tensor([[-0.0775,  0.3024, -0.4119,  ..., -0.5312, -0.6876,  2.7937],\n",
       "        [-0.9282, -0.3022, -0.0286,  ..., -0.6468, -0.3552, -0.5702],\n",
       "        [ 1.7997,  0.0215,  0.2466,  ...,  0.0973, -0.7282,  0.0596],\n",
       "        ...,\n",
       "        [-1.1021,  0.7491,  1.8667,  ..., -0.0968, -2.5408, -0.2693],\n",
       "        [ 0.8480, -1.5878,  1.6776,  ..., -1.0743,  3.3374,  1.0190],\n",
       "        [-1.2507, -0.8470,  0.3551,  ...,  0.4148,  0.0299, -1.5046]],\n",
       "       dtype=torch.float64)"
      ]
     },
     "metadata":{
      
     },
     "output_type":"display_data"
    }
   ],
   "metadata":{
    "datalore":{
     "node_id":"qyICgNJn3gTC17GcICJ51S",
     "type":"CODE",
     "hide_input_from_viewers":false,
     "hide_output_from_viewers":false
    }
   }
  },
  {
   "cell_type":"code",
   "source":[
    "%timeit np.dot(a,b)"
   ],
   "execution_count":10,
   "outputs":[
    {
     "name":"stdout",
     "text":[
      "2.7 ms ± 8.84 µs per loop (mean ± std. dev. of 7 runs, 100 loops each)\n"
     ],
     "output_type":"stream"
    }
   ],
   "metadata":{
    "datalore":{
     "node_id":"RJhmGUk9S61V22ky3Uin26",
     "type":"CODE",
     "hide_input_from_viewers":false,
     "hide_output_from_viewers":false
    }
   }
  },
  {
   "cell_type":"code",
   "source":[
    "%timeit torch.matmul(a_ten, b_ten)"
   ],
   "execution_count":11,
   "outputs":[
    {
     "name":"stdout",
     "text":[
      "2.23 ms ± 14 µs per loop (mean ± std. dev. of 7 runs, 100 loops each)\n"
     ],
     "output_type":"stream"
    }
   ],
   "metadata":{
    "datalore":{
     "node_id":"QlQhb8qA6Fs70fW8NqQYsn",
     "type":"CODE",
     "hide_input_from_viewers":false,
     "hide_output_from_viewers":false
    }
   }
  },
  {
   "cell_type":"code",
   "source":[
    "%timeit torch.matmul(a_tenc, b_tenc)"
   ],
   "execution_count":12,
   "outputs":[
    {
     "name":"stdout",
     "text":[
      "22.8 µs ± 14.4 µs per loop (mean ± std. dev. of 7 runs, 1 loop each)\n"
     ],
     "output_type":"stream"
    }
   ],
   "metadata":{
    "datalore":{
     "node_id":"boXwB3IpTtz0uydbEcQB0Q",
     "type":"CODE",
     "hide_input_from_viewers":false,
     "hide_output_from_viewers":false
    }
   }
  },
  {
   "cell_type":"code",
   "source":[
    "a32 = np.random.normal(size=(N,N)).astype(np.float32)\n",
    "b32 = np.random.normal(size=(N,N)).astype(np.float32)\n",
    "a_ten32 = torch.tensor(a32)\n",
    "b_ten32 = torch.tensor(b32)\n",
    "a_tenc32 = a_ten32.cuda()\n",
    "b_tenc32 = b_ten32.cuda()"
   ],
   "execution_count":15,
   "outputs":[
    
   ],
   "metadata":{
    "datalore":{
     "node_id":"LHBWLzZzPp1JwpzWF5dolD",
     "type":"CODE",
     "hide_input_from_viewers":false,
     "hide_output_from_viewers":false
    }
   }
  },
  {
   "cell_type":"code",
   "source":[
    "a_ten32"
   ],
   "execution_count":17,
   "outputs":[
    {
     "data":{
      "text\/plain":[
       "tensor([[ 1.3954,  0.3139, -1.2094,  ..., -2.5670, -0.7269,  0.1231],\n",
       "        [-0.4257, -0.0673, -0.9478,  ...,  0.1603,  0.5322,  1.9775],\n",
       "        [-0.2056, -0.0631,  0.6073,  ..., -0.7403,  1.1499, -0.1753],\n",
       "        ...,\n",
       "        [ 0.0296,  0.0241, -0.5349,  ...,  1.0955,  0.8051, -1.1943],\n",
       "        [ 0.6457, -1.2042,  0.0721,  ..., -0.6507,  0.4757,  1.0971],\n",
       "        [ 2.5511,  0.4281,  0.9820,  ..., -0.3287, -0.7725,  1.4404]])"
      ]
     },
     "metadata":{
      
     },
     "output_type":"display_data"
    }
   ],
   "metadata":{
    "datalore":{
     "node_id":"Ud4aE9MZ7iBzL28Tg1IBKZ",
     "type":"CODE",
     "hide_input_from_viewers":false,
     "hide_output_from_viewers":false
    }
   }
  },
  {
   "cell_type":"code",
   "source":[
    "%timeit np.dot(a32,b32)"
   ],
   "execution_count":16,
   "outputs":[
    {
     "name":"stdout",
     "text":[
      "1.37 ms ± 10 µs per loop (mean ± std. dev. of 7 runs, 1000 loops each)\n"
     ],
     "output_type":"stream"
    }
   ],
   "metadata":{
    "datalore":{
     "node_id":"JY1FoUlVolGnv3xcAMBezq",
     "type":"CODE",
     "hide_input_from_viewers":false,
     "hide_output_from_viewers":false
    }
   }
  },
  {
   "cell_type":"code",
   "source":[
    "%timeit torch.matmul(a_ten32, b_ten32)"
   ],
   "execution_count":18,
   "outputs":[
    {
     "name":"stdout",
     "text":[
      "1.01 ms ± 4.7 µs per loop (mean ± std. dev. of 7 runs, 1000 loops each)\n"
     ],
     "output_type":"stream"
    }
   ],
   "metadata":{
    "datalore":{
     "node_id":"V6udSFPV6zwbU012No1lH6",
     "type":"CODE",
     "hide_input_from_viewers":false,
     "hide_output_from_viewers":false
    }
   }
  },
  {
   "cell_type":"code",
   "source":[
    "%timeit torch.matmul(a_tenc32, b_tenc32)"
   ],
   "execution_count":20,
   "outputs":[
    {
     "name":"stdout",
     "text":[
      "59.2 µs ± 136 ns per loop (mean ± std. dev. of 7 runs, 10000 loops each)\n"
     ],
     "output_type":"stream"
    }
   ],
   "metadata":{
    "datalore":{
     "node_id":"PA5PjEr5NncmUBEI1WMSbC",
     "type":"CODE",
     "hide_input_from_viewers":false,
     "hide_output_from_viewers":false
    }
   }
  },
  {
   "cell_type":"code",
   "source":[
    "a_tenc32"
   ],
   "execution_count":21,
   "outputs":[
    {
     "data":{
      "text\/plain":[
       "tensor([[ 1.3954,  0.3139, -1.2094,  ..., -2.5670, -0.7269,  0.1231],\n",
       "        [-0.4257, -0.0673, -0.9478,  ...,  0.1603,  0.5322,  1.9775],\n",
       "        [-0.2056, -0.0631,  0.6073,  ..., -0.7403,  1.1499, -0.1753],\n",
       "        ...,\n",
       "        [ 0.0296,  0.0241, -0.5349,  ...,  1.0955,  0.8051, -1.1943],\n",
       "        [ 0.6457, -1.2042,  0.0721,  ..., -0.6507,  0.4757,  1.0971],\n",
       "        [ 2.5511,  0.4281,  0.9820,  ..., -0.3287, -0.7725,  1.4404]],\n",
       "       device='cuda:0')"
      ]
     },
     "metadata":{
      
     },
     "output_type":"display_data"
    }
   ],
   "metadata":{
    "datalore":{
     "node_id":"c2Mq8ZyzzXlURmDuZY2zVm",
     "type":"CODE",
     "hide_input_from_viewers":false,
     "hide_output_from_viewers":false
    }
   }
  },
  {
   "cell_type":"code",
   "source":[
    "def matmul(a, b):\n",
    "    n = a.shape[0]\n",
    "    k = a.shape[1]\n",
    "    m = b.shape[1]  \n",
    "    c = np.zeros((n, m))\n",
    "    for i in range(n):\n",
    "        for j in range(m):\n",
    "            for s in range(k):\n",
    "                c[i, j] += a[i, s] * b[s, j]\n",
    "                \n",
    "    return c\n",
    "\n",
    "N = 100\n",
    "a = np.random.normal(size=(N,N))\n",
    "b = np.random.normal(size=(N,N))"
   ],
   "execution_count":22,
   "outputs":[
    
   ],
   "metadata":{
    "datalore":{
     "node_id":"FWfmoCP8V7zOdrOddPBRMd",
     "type":"CODE",
     "hide_input_from_viewers":false,
     "hide_output_from_viewers":false
    }
   }
  },
  {
   "cell_type":"code",
   "source":[
    "%timeit np.dot(a,b)"
   ],
   "execution_count":23,
   "outputs":[
    {
     "name":"stdout",
     "text":[
      "44.5 µs ± 39.3 ns per loop (mean ± std. dev. of 7 runs, 10000 loops each)\n"
     ],
     "output_type":"stream"
    }
   ],
   "metadata":{
    "datalore":{
     "node_id":"27ZOlWTG6IXVdvFv0suiyU",
     "type":"CODE",
     "hide_input_from_viewers":false,
     "hide_output_from_viewers":false
    }
   }
  },
  {
   "cell_type":"code",
   "source":[
    "%timeit matmul(a,b)"
   ],
   "execution_count":24,
   "outputs":[
    {
     "name":"stdout",
     "text":[
      "488 ms ± 664 µs per loop (mean ± std. dev. of 7 runs, 1 loop each)\n"
     ],
     "output_type":"stream"
    }
   ],
   "metadata":{
    "datalore":{
     "node_id":"H6IjE1h4ZKheQqA51DEB03",
     "type":"CODE",
     "hide_input_from_viewers":false,
     "hide_output_from_viewers":false
    }
   }
  },
  {
   "cell_type":"markdown",
   "source":[
    "## JIT - Just In Time - Compilation"
   ],
   "attachments":{
    
   },
   "metadata":{
    "datalore":{
     "node_id":"NWiUC8zVbG76fZfm23jK33",
     "type":"MD",
     "hide_input_from_viewers":false,
     "hide_output_from_viewers":false
    }
   }
  },
  {
   "cell_type":"code",
   "source":[
    "import numba as nb\n",
    "@nb.njit\n",
    "def numba_matmul(a, b):\n",
    "    n = a.shape[0]\n",
    "    k = a.shape[1]\n",
    "    m = b.shape[1]\n",
    "    c = np.zeros((n, m))\n",
    "    for i in range(n):\n",
    "        for j in range(m):\n",
    "            for s in range(k):\n",
    "                c[i, j] += a[i, s] * b[s, j]\n",
    "    return c"
   ],
   "execution_count":25,
   "outputs":[
    
   ],
   "metadata":{
    "datalore":{
     "node_id":"DpOciv1kIe63nfUYOJg22K",
     "type":"CODE",
     "hide_input_from_viewers":false,
     "hide_output_from_viewers":false
    }
   }
  },
  {
   "cell_type":"code",
   "source":[
    "result = numba_matmul(a,b)"
   ],
   "execution_count":26,
   "outputs":[
    
   ],
   "metadata":{
    "datalore":{
     "node_id":"LNf5QZeEHJm81tjIsxbHfl",
     "type":"CODE",
     "hide_input_from_viewers":false,
     "hide_output_from_viewers":false
    }
   }
  },
  {
   "cell_type":"code",
   "source":[
    "%timeit numba_matmul(a,b)"
   ],
   "execution_count":27,
   "outputs":[
    {
     "name":"stdout",
     "text":[
      "1.51 ms ± 1.44 µs per loop (mean ± std. dev. of 7 runs, 1000 loops each)\n"
     ],
     "output_type":"stream"
    }
   ],
   "metadata":{
    "datalore":{
     "node_id":"gVm7woP3YCEP8qgarhD1KX",
     "type":"CODE",
     "hide_input_from_viewers":false,
     "hide_output_from_viewers":false
    }
   }
  },
  {
   "cell_type":"markdown",
   "source":[
    "## Multithreading and Parallel Computing"
   ],
   "attachments":{
    
   },
   "metadata":{
    "datalore":{
     "node_id":"klcREOb0YkhUwcD2r6COIW",
     "type":"MD",
     "hide_input_from_viewers":false,
     "hide_output_from_viewers":false
    }
   }
  },
  {
   "cell_type":"markdown",
   "source":[
    "![multithreading](https:\/\/randu.org\/tutorials\/threads\/images\/process.png)"
   ],
   "attachments":{
    
   },
   "metadata":{
    "datalore":{
     "node_id":"kSgYYqYWOg5YiuKhYBFTcT",
     "type":"MD",
     "hide_input_from_viewers":false,
     "hide_output_from_viewers":false
    }
   }
  },
  {
   "cell_type":"code",
   "source":[
    "@nb.njit(parallel=True)\n",
    "def numba_matmul_parallel(a, b):\n",
    "    n = a.shape[0]\n",
    "    k = a.shape[1]\n",
    "    m = b.shape[1]\n",
    "    c = np.zeros((n, m))\n",
    "    for i in nb.prange(n):\n",
    "        for j in range(m):\n",
    "            for s in range(k):\n",
    "                c[i, j] += a[i, s] * b[s, j]\n",
    "    return c"
   ],
   "execution_count":28,
   "outputs":[
    
   ],
   "metadata":{
    "datalore":{
     "node_id":"SemGVUoepZDDUwMFkDoJba",
     "type":"CODE",
     "hide_input_from_viewers":false,
     "hide_output_from_viewers":false
    }
   }
  },
  {
   "cell_type":"code",
   "source":[
    "result = numba_matmul_parallel(a,b)"
   ],
   "execution_count":29,
   "outputs":[
    
   ],
   "metadata":{
    "datalore":{
     "node_id":"isvPgBQL5SnkDYGMkp4Zhq",
     "type":"CODE",
     "hide_input_from_viewers":false,
     "hide_output_from_viewers":false
    }
   }
  },
  {
   "cell_type":"code",
   "source":[
    "%timeit numba_matmul_parallel(a,b)"
   ],
   "execution_count":30,
   "outputs":[
    {
     "name":"stdout",
     "text":[
      "500 µs ± 6.05 µs per loop (mean ± std. dev. of 7 runs, 1000 loops each)\n"
     ],
     "output_type":"stream"
    }
   ],
   "metadata":{
    "datalore":{
     "node_id":"3Q2WuihbMCQucWx4pyFBT6",
     "type":"CODE",
     "hide_input_from_viewers":false,
     "hide_output_from_viewers":false
    }
   }
  },
  {
   "cell_type":"markdown",
   "source":[
    "## GPU Computing\n",
    "\n",
    "![sm](https:\/\/docs.nvidia.com\/cuda\/cuda-c-programming-guide\/graphics\/automatic-scalability.png)\n",
    "\n",
    "![blocks](https:\/\/docs.nvidia.com\/cuda\/cuda-c-programming-guide\/graphics\/grid-of-thread-blocks.png)\n",
    "\n",
    "![CUDA](https:\/\/developer-blogs.nvidia.com\/wp-content\/uploads\/2017\/01\/cuda_indexing.png)"
   ],
   "attachments":{
    
   },
   "metadata":{
    "datalore":{
     "node_id":"rNbFmASmi0y76cClyLdILi",
     "type":"MD",
     "hide_input_from_viewers":false,
     "hide_output_from_viewers":false
    }
   }
  },
  {
   "cell_type":"code",
   "source":[
    "from numba import cuda\n",
    "@cuda.jit\n",
    "def numba_matmul_kernel(a, b, c, m, k):\n",
    "    thread_id = cuda.threadIdx.x\n",
    "    block_id = cuda.blockIdx.x # same as n\n",
    "\n",
    "    step = cuda.blockDim.x\n",
    "\n",
    "    for i in range(thread_id, m, step):\n",
    "        for s in range(k):\n",
    "            c[block_id, i] += a[block_id, s] * b[s, i]\n",
    "\n",
    "def numba_matmul_cuda(a, b):\n",
    "    n = a.shape[0]\n",
    "    k = a.shape[1]\n",
    "    m = b.shape[1]\n",
    "    c = torch.zeros((n, m)).cuda()\n",
    "\n",
    "    grid_size = n\n",
    "    block_size = 32 * (max(1, m \/\/ 32)) # Block size should be a multiple of 32\n",
    "\n",
    "    numba_matmul_kernel[grid_size, block_size](a, b, c, m, k)\n",
    "    return c"
   ],
   "execution_count":33,
   "outputs":[
    
   ],
   "metadata":{
    "datalore":{
     "node_id":"tsoxbOSYr2SyORHdbxYbHh",
     "type":"CODE",
     "hide_input_from_viewers":false,
     "hide_output_from_viewers":false
    }
   }
  },
  {
   "cell_type":"code",
   "source":[
    "ac = torch.Tensor(a).cuda()\n",
    "bc = torch.Tensor(b).cuda()"
   ],
   "execution_count":34,
   "outputs":[
    
   ],
   "metadata":{
    "datalore":{
     "node_id":"trn8TgEqvNshmCEB9GNGie",
     "type":"CODE",
     "hide_input_from_viewers":false,
     "hide_output_from_viewers":false
    }
   }
  },
  {
   "cell_type":"code",
   "source":[
    "result = numba_matmul_cuda(ac, bc)"
   ],
   "execution_count":35,
   "outputs":[
    
   ],
   "metadata":{
    "datalore":{
     "node_id":"LTVTx4eFKCsC9kB7dyqepH",
     "type":"CODE",
     "hide_input_from_viewers":false,
     "hide_output_from_viewers":false
    }
   }
  },
  {
   "cell_type":"code",
   "source":[
    "result"
   ],
   "execution_count":34,
   "outputs":[
    {
     "data":{
      "text\/plain":[
       "tensor([[  4.0396,  -6.0901, -28.9926,  ...,  -0.1462, -17.9570,  -3.8915],\n",
       "        [ -2.6122,  11.3718, -20.6277,  ...,   2.0551,  -7.9371,  -0.5512],\n",
       "        [ 10.4962,  -2.2127,  -7.3381,  ...,   1.0584,  -9.9571,   6.1283],\n",
       "        ...,\n",
       "        [  4.1356,  -9.5141,   2.8716,  ...,  13.6263, -21.8132,  20.0127],\n",
       "        [-13.2677,   2.2546,  -4.0188,  ..., -11.1008,  -2.8803, -16.5581],\n",
       "        [ -3.1486,   9.6964,   7.0799,  ...,  -8.2270,   3.9389,  -4.2925]],\n",
       "       device='cuda:0')"
      ]
     },
     "metadata":{
      
     },
     "output_type":"display_data"
    }
   ],
   "metadata":{
    "datalore":{
     "node_id":"xE1YdZsv15D3YffKTnr9Ve",
     "type":"CODE",
     "hide_input_from_viewers":false,
     "hide_output_from_viewers":false
    }
   }
  },
  {
   "cell_type":"code",
   "source":[
    "%timeit numba_matmul_cuda(a, b)"
   ],
   "execution_count":35,
   "outputs":[
    {
     "name":"stdout",
     "text":[
      "790 µs ± 983 ns per loop (mean ± std. dev. of 7 runs, 1000 loops each)\n"
     ],
     "output_type":"stream"
    }
   ],
   "metadata":{
    "datalore":{
     "node_id":"TiLQmgjvwpfiHUZYOa6bUG",
     "type":"CODE",
     "hide_input_from_viewers":false,
     "hide_output_from_viewers":false
    }
   }
  },
  {
   "cell_type":"markdown",
   "source":[
    "### Buffer Protocol\n",
    "\n",
    "```cpp\n",
    "struct buffer_info {\n",
    "    void *ptr; \/* Pointer to buffer *\/\n",
    "    size_t itemsize; \/* Size of one scalar *\/\n",
    "    size_t ndim; \/* Number of dimensions *\/\n",
    "    size_t *shape; \/* Buffer dimensions *\/\n",
    "    size_t *strides; \/* Strides (in bytes) for each index *\/\n",
    "};\n",
    "```"
   ],
   "attachments":{
    
   },
   "metadata":{
    "datalore":{
     "node_id":"v4wAyWAmWI46HfWxYTQtSa",
     "type":"MD",
     "hide_input_from_viewers":false,
     "hide_output_from_viewers":false
    }
   }
  },
  {
   "cell_type":"code",
   "source":[
    "a = np.random.normal(size=(4,5)).astype(np.float32)\n",
    "print(a.itemsize)\n",
    "print(a.ndim)\n",
    "print(a.shape)\n",
    "print(a.strides)\n",
    "a"
   ],
   "execution_count":36,
   "outputs":[
    {
     "name":"stdout",
     "text":[
      "4\n",
      "2\n",
      "(4, 5)\n",
      "(20, 4)\n"
     ],
     "output_type":"stream"
    },
    {
     "data":{
      "text\/html":[
       
      ]
     },
     "metadata":{
      
     },
     "output_type":"display_data"
    }
   ],
   "metadata":{
    "datalore":{
     "node_id":"I6qJnheXS3zfTGETXkJI7y",
     "type":"CODE",
     "hide_input_from_viewers":false,
     "hide_output_from_viewers":false
    }
   }
  },
  {
   "cell_type":"code",
   "source":[
    "a_tor = torch.from_numpy(a)\n",
    "print(a_tor.dtype)\n",
    "print(a_tor.dim())\n",
    "print(a_tor.size())\n",
    "print(a_tor.stride())\n",
    "a_tor"
   ],
   "execution_count":37,
   "outputs":[
    {
     "name":"stdout",
     "text":[
      "torch.float32\n",
      "2\n",
      "torch.Size([4, 5])\n",
      "(5, 1)\n"
     ],
     "output_type":"stream"
    },
    {
     "data":{
      "text\/plain":[
       "tensor([[-0.5554, -0.7204,  0.4757, -0.5168, -0.7033],\n",
       "        [ 1.0857,  0.6206, -0.0197, -1.3250,  0.4471],\n",
       "        [-0.1547,  0.3575,  1.2935, -0.0075,  0.2461],\n",
       "        [-1.9445,  0.5729,  0.5526, -2.2325, -1.2715]])"
      ]
     },
     "metadata":{
      
     },
     "output_type":"display_data"
    }
   ],
   "metadata":{
    "datalore":{
     "node_id":"qTwmqeLaXPdaQFvBBYjQS3",
     "type":"CODE",
     "hide_input_from_viewers":false,
     "hide_output_from_viewers":false
    }
   }
  },
  {
   "cell_type":"code",
   "source":[
    "a_num = a_tor.numpy()\n",
    "a_num"
   ],
   "execution_count":38,
   "outputs":[
    {
     "data":{
      "text\/html":[
       
      ]
     },
     "metadata":{
      
     },
     "output_type":"display_data"
    }
   ],
   "metadata":{
    "datalore":{
     "node_id":"U1mAumffscolVc28TkKPqt",
     "type":"CODE",
     "hide_input_from_viewers":false,
     "hide_output_from_viewers":false
    }
   }
  },
  {
   "cell_type":"code",
   "source":[
    "a_tor[0,0] *= 10\n",
    "print(a_tor[0,0])"
   ],
   "execution_count":39,
   "outputs":[
    {
     "name":"stdout",
     "text":[
      "tensor(-5.5544)\n"
     ],
     "output_type":"stream"
    }
   ],
   "metadata":{
    "datalore":{
     "node_id":"LWaC5dS7o51GH7JerRjZCQ",
     "type":"CODE",
     "hide_input_from_viewers":false,
     "hide_output_from_viewers":false
    }
   }
  },
  {
   "cell_type":"code",
   "source":[
    "a"
   ],
   "execution_count":41,
   "outputs":[
    {
     "data":{
      "text\/html":[
       
      ]
     },
     "metadata":{
      
     },
     "output_type":"display_data"
    }
   ],
   "metadata":{
    "datalore":{
     "node_id":"izaA1QmofHjYoHtWCxP3Mr",
     "type":"CODE",
     "hide_input_from_viewers":false,
     "hide_output_from_viewers":false
    }
   }
  },
  {
   "cell_type":"code",
   "source":[
    "assert a[0,0] == a_tor[0,0].item()\n",
    "assert a[0,0] == a_num[0,0]"
   ],
   "execution_count":40,
   "outputs":[
    
   ],
   "metadata":{
    "datalore":{
     "node_id":"7nKcph15PhcPb4G4OeQW1r",
     "type":"CODE",
     "hide_input_from_viewers":false,
     "hide_output_from_viewers":false
    }
   }
  },
  {
   "cell_type":"markdown",
   "source":[
    "## AOT - Ahead Of Time - Compilation"
   ],
   "attachments":{
    
   },
   "metadata":{
    "datalore":{
     "node_id":"VX3Uzv8uurIV2qdNs5zeP8",
     "type":"MD",
     "hide_input_from_viewers":false,
     "hide_output_from_viewers":false
    }
   }
  },
  {
   "cell_type":"code",
   "source":[
    "from torch.utils.cpp_extension import load"
   ],
   "execution_count":41,
   "outputs":[
    
   ],
   "metadata":{
    "datalore":{
     "node_id":"a6Yr7CdWePQNOKd0dzfxdQ",
     "type":"CODE",
     "hide_input_from_viewers":false,
     "hide_output_from_viewers":false
    }
   }
  },
  {
   "cell_type":"code",
   "source":[
    "cpp_intro = load(name='cpp_intro',\n",
    "             build_directory='.\/build',\n",
    "             sources=['cpp_intro.cc'],\n",
    "             extra_cflags=['-Wall -Wextra -Wpedantic -O3'],\n",
    "             verbose=False)"
   ],
   "execution_count":43,
   "outputs":[
    
   ],
   "metadata":{
    "datalore":{
     "node_id":"9kIEaA0IvF3KcTxdGRYep3",
     "type":"CODE",
     "hide_input_from_viewers":false,
     "hide_output_from_viewers":false
    }
   }
  },
  {
   "cell_type":"code",
   "source":[
    "N = 3\n",
    "PI = 2. * torch.acos(torch.tensor(0.))\n",
    "thetas = 0.05 * PI * (torch.rand(N) - 0.5) # example of angles in radians\n",
    "rots = cpp_intro.get_rotations(thetas)\n",
    "rots"
   ],
   "execution_count":44,
   "outputs":[
    {
     "data":{
      "text\/plain":[
       "tensor([[[ 0.9974, -0.0721],\n",
       "         [ 0.0721,  0.9974]],\n",
       "\n",
       "        [[ 0.9978, -0.0667],\n",
       "         [ 0.0667,  0.9978]],\n",
       "\n",
       "        [[ 0.9992,  0.0408],\n",
       "         [-0.0408,  0.9992]]])"
      ]
     },
     "metadata":{
      
     },
     "output_type":"display_data"
    }
   ],
   "metadata":{
    "datalore":{
     "node_id":"Z0Q0YX5KbYhamnqbjQ4EAx",
     "type":"CODE",
     "hide_input_from_viewers":false,
     "hide_output_from_viewers":false
    }
   }
  },
  {
   "cell_type":"code",
   "source":[
    "(rots.matmul(rots.transpose(-1,-2)) - torch.eye(2)).abs().sum()"
   ],
   "execution_count":46,
   "outputs":[
    {
     "data":{
      "text\/plain":[
       "tensor(3.5763e-07)"
      ]
     },
     "metadata":{
      
     },
     "output_type":"display_data"
    }
   ],
   "metadata":{
    "datalore":{
     "node_id":"zh6ME7TDBUVXQ5IKIJh27L",
     "type":"CODE",
     "hide_input_from_viewers":false,
     "hide_output_from_viewers":false
    }
   }
  },
  {
   "cell_type":"markdown",
   "source":[
    "For more info have a look at: \n",
    "* PyTorch [docs](https:\/\/pytorch.org\/tutorials\/beginner\/blitz\/tensor_tutorial.html) \n",
    "* Numba [docs](https:\/\/numba.pydata.org\/numba-doc\/latest\/index.html)"
   ],
   "attachments":{
    
   },
   "metadata":{
    "datalore":{
     "node_id":"mXfeuHEwkd4gWlkUoRMBxo",
     "type":"MD",
     "hide_input_from_viewers":false,
     "hide_output_from_viewers":false
    }
   }
  },
  {
   "cell_type":"markdown",
   "source":[
    "### Writing native extensions \n",
    "\n",
    "Tutorials worth working through include: \n",
    "* [numba & CUDA](http:\/\/numba.pydata.org\/numba-doc\/0.16.0\/CUDAJit.html)\n",
    "* [CUDA made easy](https:\/\/developer.nvidia.com\/blog\/even-easier-introduction-cuda)\n",
    "* [CUDA guide](https:\/\/docs.nvidia.com\/cuda\/cuda-c-programming-guide\/index.html)"
   ],
   "attachments":{
    
   },
   "metadata":{
    "datalore":{
     "node_id":"nr1sMdOoWpUO8JlWqZJc4d",
     "type":"MD",
     "hide_input_from_viewers":false,
     "hide_output_from_viewers":false
    }
   }
  },
  {
   "cell_type":"markdown",
   "source":[
    "Further performance gain can be obtained by writing C++ extensions directly using LibTorch:\n",
    "* [PyTorch C++ extensions](https:\/\/pytorch.org\/tutorials\/advanced\/cpp_extension.html)"
   ],
   "attachments":{
    
   },
   "metadata":{
    "datalore":{
     "node_id":"zoKeN9oK0am3XpK1fUpQzh",
     "type":"MD",
     "hide_input_from_viewers":false,
     "hide_output_from_viewers":false
    }
   }
  }
 ],
 "metadata":{
  "kernelspec":{
   "display_name":"Python",
   "language":"python",
   "name":"python"
  },
  "datalore":{
   "version":1,
   "computation_mode":"JUPYTER",
   "package_manager":"conda",
   "base_environment":"minimal",
   "packages":[
    
   ]
  }
 },
 "nbformat":4,
 "nbformat_minor":4
}